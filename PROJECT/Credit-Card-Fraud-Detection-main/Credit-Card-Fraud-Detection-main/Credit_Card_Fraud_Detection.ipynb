{
  "nbformat": 4,
  "nbformat_minor": 0,
  "metadata": {
    "colab": {
      "name": "Credit Card Fraud Detection.ipynb",
      "provenance": [],
      "collapsed_sections": [
        "W23q7Zt_AhIU",
        "IUx1Gt5wSLba",
        "IBdgTPgb__dm",
        "_Z19HVlSALNg",
        "4k6Ro7E1G6Qf",
        "vJahWU9YAWvd"
      ],
      "include_colab_link": true
    },
    "kernelspec": {
      "display_name": "Python 3",
      "language": "python",
      "name": "python3"
    },
    "language_info": {
      "codemirror_mode": {
        "name": "ipython",
        "version": 3
      },
      "file_extension": ".py",
      "mimetype": "text/x-python",
      "name": "python",
      "nbconvert_exporter": "python",
      "pygments_lexer": "ipython3",
      "version": "3.7.4"
    }
  },
  "cells": [
    {
      "cell_type": "markdown",
      "metadata": {
        "id": "view-in-github",
        "colab_type": "text"
      },
      "source": [
        "<a href=\"https://colab.research.google.com/github/aishwaryachand/Credit-Card-Fraud-Detection/blob/main/Credit_Card_Fraud_Detection.ipynb\" target=\"_parent\"><img src=\"https://colab.research.google.com/assets/colab-badge.svg\" alt=\"Open In Colab\"/></a>"
      ]
    },
    {
      "cell_type": "markdown",
      "metadata": {
        "id": "Jug1EfcDlGkx"
      },
      "source": [
        "# **CREDIT CARD FRAUD DETECTION**"
      ]
    },
    {
      "cell_type": "markdown",
      "metadata": {
        "id": "2LLnoQRgl_pD"
      },
      "source": [
        "### Introduction "
      ]
    },
    {
      "cell_type": "code",
      "metadata": {
        "id": "hIGRtTUMXWqh"
      },
      "source": [
        "import numpy as np\n",
        "import pandas as pd\n",
        "import sklearn \n",
        "import matplotlib.pyplot as plt \n",
        "import seaborn as sns \n",
        "%matplotlib inline\n",
        "from pandas.plotting import scatter_matrix\n",
        "!pip install tabulate\n",
        "from tabulate import tabulate\n",
        "import os\n",
        "from collections import Counter\n",
        "import warnings\n",
        "warnings.filterwarnings('ignore')\n",
        "\n",
        "# scikit packages\n",
        "from sklearn.preprocessing import StandardScaler\n",
        "from sklearn.model_selection import train_test_split, cross_val_score\n",
        "from sklearn import metrics\n",
        "from sklearn.metrics import accuracy_score,roc_auc_score,precision_score, recall_score,f1_score,classification_report\n",
        "from sklearn.linear_model import LogisticRegression\n",
        "from sklearn.ensemble import RandomForestClassifier\n",
        "from sklearn.naive_bayes import BernoulliNB \n",
        "\n"
      ],
      "execution_count": 1,
      "outputs": []
    },
    {
      "cell_type": "code",
      "metadata": {
        "colab": {
          "base_uri": "https://localhost:8080/"
        },
        "id": "GjA8ML_zSX83",
        "outputId": "e47ccb8b-5357-4963-dc92-fe1fcec3e719"
      },
      "source": [
        "from google.colab import drive\n",
        "drive.mount('/gdrive')\n",
        "%cd /gdrive"
      ],
      "execution_count": 2,
      "outputs": [
        {
          "output_type": "stream",
          "text": [
            "Mounted at /gdrive\n",
            "/gdrive\n"
          ],
          "name": "stdout"
        }
      ]
    },
    {
      "cell_type": "code",
      "metadata": {
        "id": "7uMjsStnXWqk"
      },
      "source": [
        "data = pd.read_csv(\"/gdrive/MyDrive/creditcard.csv\")"
      ],
      "execution_count": 3,
      "outputs": []
    },
    {
      "cell_type": "markdown",
      "metadata": {
        "id": "OdjefvEASy8x"
      },
      "source": [
        "The dataset contains transactions made by credit cards in September 2013 by European cardholders.\n",
        "This dataset presents transactions that occurred in two days, where we have 492 frauds out of 284,807 transactions. The dataset is highly unbalanced, the positive class (frauds) account for 0.172% of all transactions.\n",
        "\n",
        "It contains only numerical input variables which are the result of a PCA transformation. Due to confidentiality issues, the original features and more background information about the data are not shared . Features V1, V2, … V28 are the principal components obtained with PCA, the only features which have not been transformed with PCA are 'Time' and 'Amount'. "
      ]
    },
    {
      "cell_type": "code",
      "metadata": {
        "colab": {
          "base_uri": "https://localhost:8080/"
        },
        "id": "vXYRk986XWqk",
        "outputId": "2e33f960-833c-4424-dd54-40c44ad8a8bf"
      },
      "source": [
        "data.info()"
      ],
      "execution_count": 4,
      "outputs": [
        {
          "output_type": "stream",
          "text": [
            "<class 'pandas.core.frame.DataFrame'>\n",
            "RangeIndex: 284807 entries, 0 to 284806\n",
            "Data columns (total 31 columns):\n",
            " #   Column  Non-Null Count   Dtype  \n",
            "---  ------  --------------   -----  \n",
            " 0   Time    284807 non-null  float64\n",
            " 1   V1      284807 non-null  float64\n",
            " 2   V2      284807 non-null  float64\n",
            " 3   V3      284807 non-null  float64\n",
            " 4   V4      284807 non-null  float64\n",
            " 5   V5      284807 non-null  float64\n",
            " 6   V6      284807 non-null  float64\n",
            " 7   V7      284807 non-null  float64\n",
            " 8   V8      284807 non-null  float64\n",
            " 9   V9      284807 non-null  float64\n",
            " 10  V10     284807 non-null  float64\n",
            " 11  V11     284807 non-null  float64\n",
            " 12  V12     284807 non-null  float64\n",
            " 13  V13     284807 non-null  float64\n",
            " 14  V14     284807 non-null  float64\n",
            " 15  V15     284807 non-null  float64\n",
            " 16  V16     284807 non-null  float64\n",
            " 17  V17     284807 non-null  float64\n",
            " 18  V18     284807 non-null  float64\n",
            " 19  V19     284807 non-null  float64\n",
            " 20  V20     284807 non-null  float64\n",
            " 21  V21     284807 non-null  float64\n",
            " 22  V22     284807 non-null  float64\n",
            " 23  V23     284807 non-null  float64\n",
            " 24  V24     284807 non-null  float64\n",
            " 25  V25     284807 non-null  float64\n",
            " 26  V26     284807 non-null  float64\n",
            " 27  V27     284807 non-null  float64\n",
            " 28  V28     284807 non-null  float64\n",
            " 29  Amount  284807 non-null  float64\n",
            " 30  Class   284807 non-null  int64  \n",
            "dtypes: float64(30), int64(1)\n",
            "memory usage: 67.4 MB\n"
          ],
          "name": "stdout"
        }
      ]
    },
    {
      "cell_type": "markdown",
      "metadata": {
        "id": "BHxQCFF1mOtL"
      },
      "source": [
        "\n",
        "\n",
        "---\n",
        "\n"
      ]
    },
    {
      "cell_type": "markdown",
      "metadata": {
        "id": "ubUp7fonTJwD"
      },
      "source": [
        "Feature 'Time' contains the seconds elapsed between each transaction and the first transaction in the dataset. The feature 'Amount' is the transaction Amount, this feature can be used for example-dependant cost-sensitive learning. Feature 'Class' is the response variable and it takes value 1 in case of fraud and 0 otherwise.\n",
        "\n"
      ]
    },
    {
      "cell_type": "markdown",
      "metadata": {
        "id": "VFU8K0JjTHOs"
      },
      "source": [
        "## Exploratory Data Analysis"
      ]
    },
    {
      "cell_type": "code",
      "metadata": {
        "colab": {
          "base_uri": "https://localhost:8080/"
        },
        "id": "49LIdv3YXWqm",
        "outputId": "f6950bf2-337d-4416-c46c-d000b2b5c800"
      },
      "source": [
        "data.columns"
      ],
      "execution_count": 5,
      "outputs": [
        {
          "output_type": "execute_result",
          "data": {
            "text/plain": [
              "Index(['Time', 'V1', 'V2', 'V3', 'V4', 'V5', 'V6', 'V7', 'V8', 'V9', 'V10',\n",
              "       'V11', 'V12', 'V13', 'V14', 'V15', 'V16', 'V17', 'V18', 'V19', 'V20',\n",
              "       'V21', 'V22', 'V23', 'V24', 'V25', 'V26', 'V27', 'V28', 'Amount',\n",
              "       'Class'],\n",
              "      dtype='object')"
            ]
          },
          "metadata": {
            "tags": []
          },
          "execution_count": 5
        }
      ]
    },
    {
      "cell_type": "markdown",
      "metadata": {
        "id": "X0E1DxUwmonW"
      },
      "source": [
        "### Handling missing values"
      ]
    },
    {
      "cell_type": "code",
      "metadata": {
        "colab": {
          "base_uri": "https://localhost:8080/"
        },
        "id": "7P8dEDW9XWqm",
        "outputId": "784529ff-da6b-4e89-87cc-26d7e7779b13"
      },
      "source": [
        "data.isnull().values.any()"
      ],
      "execution_count": null,
      "outputs": [
        {
          "output_type": "execute_result",
          "data": {
            "text/plain": [
              "False"
            ]
          },
          "metadata": {
            "tags": []
          },
          "execution_count": 7
        }
      ]
    },
    {
      "cell_type": "markdown",
      "metadata": {
        "id": "We43I5ismzyS"
      },
      "source": [
        "This shows that there are no missing values in the data"
      ]
    },
    {
      "cell_type": "code",
      "metadata": {
        "colab": {
          "base_uri": "https://localhost:8080/",
          "height": 320
        },
        "id": "2fFRbpzvXWqm",
        "outputId": "dfa18a34-f5ec-43c7-83e2-39951cf28dde"
      },
      "source": [
        "data.describe()"
      ],
      "execution_count": null,
      "outputs": [
        {
          "output_type": "execute_result",
          "data": {
            "text/html": [
              "<div>\n",
              "<style scoped>\n",
              "    .dataframe tbody tr th:only-of-type {\n",
              "        vertical-align: middle;\n",
              "    }\n",
              "\n",
              "    .dataframe tbody tr th {\n",
              "        vertical-align: top;\n",
              "    }\n",
              "\n",
              "    .dataframe thead th {\n",
              "        text-align: right;\n",
              "    }\n",
              "</style>\n",
              "<table border=\"1\" class=\"dataframe\">\n",
              "  <thead>\n",
              "    <tr style=\"text-align: right;\">\n",
              "      <th></th>\n",
              "      <th>Time</th>\n",
              "      <th>V1</th>\n",
              "      <th>V2</th>\n",
              "      <th>V3</th>\n",
              "      <th>V4</th>\n",
              "      <th>V5</th>\n",
              "      <th>V6</th>\n",
              "      <th>V7</th>\n",
              "      <th>V8</th>\n",
              "      <th>V9</th>\n",
              "      <th>V10</th>\n",
              "      <th>V11</th>\n",
              "      <th>V12</th>\n",
              "      <th>V13</th>\n",
              "      <th>V14</th>\n",
              "      <th>V15</th>\n",
              "      <th>V16</th>\n",
              "      <th>V17</th>\n",
              "      <th>V18</th>\n",
              "      <th>V19</th>\n",
              "      <th>V20</th>\n",
              "      <th>V21</th>\n",
              "      <th>V22</th>\n",
              "      <th>V23</th>\n",
              "      <th>V24</th>\n",
              "      <th>V25</th>\n",
              "      <th>V26</th>\n",
              "      <th>V27</th>\n",
              "      <th>V28</th>\n",
              "      <th>Amount</th>\n",
              "      <th>Class</th>\n",
              "    </tr>\n",
              "  </thead>\n",
              "  <tbody>\n",
              "    <tr>\n",
              "      <th>count</th>\n",
              "      <td>284807.000000</td>\n",
              "      <td>2.848070e+05</td>\n",
              "      <td>2.848070e+05</td>\n",
              "      <td>2.848070e+05</td>\n",
              "      <td>2.848070e+05</td>\n",
              "      <td>2.848070e+05</td>\n",
              "      <td>2.848070e+05</td>\n",
              "      <td>2.848070e+05</td>\n",
              "      <td>2.848070e+05</td>\n",
              "      <td>2.848070e+05</td>\n",
              "      <td>2.848070e+05</td>\n",
              "      <td>2.848070e+05</td>\n",
              "      <td>2.848070e+05</td>\n",
              "      <td>2.848070e+05</td>\n",
              "      <td>2.848070e+05</td>\n",
              "      <td>2.848070e+05</td>\n",
              "      <td>2.848070e+05</td>\n",
              "      <td>2.848070e+05</td>\n",
              "      <td>2.848070e+05</td>\n",
              "      <td>2.848070e+05</td>\n",
              "      <td>2.848070e+05</td>\n",
              "      <td>2.848070e+05</td>\n",
              "      <td>2.848070e+05</td>\n",
              "      <td>2.848070e+05</td>\n",
              "      <td>2.848070e+05</td>\n",
              "      <td>2.848070e+05</td>\n",
              "      <td>2.848070e+05</td>\n",
              "      <td>2.848070e+05</td>\n",
              "      <td>2.848070e+05</td>\n",
              "      <td>284807.000000</td>\n",
              "      <td>284807.000000</td>\n",
              "    </tr>\n",
              "    <tr>\n",
              "      <th>mean</th>\n",
              "      <td>94813.859575</td>\n",
              "      <td>3.919560e-15</td>\n",
              "      <td>5.688174e-16</td>\n",
              "      <td>-8.769071e-15</td>\n",
              "      <td>2.782312e-15</td>\n",
              "      <td>-1.552563e-15</td>\n",
              "      <td>2.010663e-15</td>\n",
              "      <td>-1.694249e-15</td>\n",
              "      <td>-1.927028e-16</td>\n",
              "      <td>-3.137024e-15</td>\n",
              "      <td>1.768627e-15</td>\n",
              "      <td>9.170318e-16</td>\n",
              "      <td>-1.810658e-15</td>\n",
              "      <td>1.693438e-15</td>\n",
              "      <td>1.479045e-15</td>\n",
              "      <td>3.482336e-15</td>\n",
              "      <td>1.392007e-15</td>\n",
              "      <td>-7.528491e-16</td>\n",
              "      <td>4.328772e-16</td>\n",
              "      <td>9.049732e-16</td>\n",
              "      <td>5.085503e-16</td>\n",
              "      <td>1.537294e-16</td>\n",
              "      <td>7.959909e-16</td>\n",
              "      <td>5.367590e-16</td>\n",
              "      <td>4.458112e-15</td>\n",
              "      <td>1.453003e-15</td>\n",
              "      <td>1.699104e-15</td>\n",
              "      <td>-3.660161e-16</td>\n",
              "      <td>-1.206049e-16</td>\n",
              "      <td>88.349619</td>\n",
              "      <td>0.001727</td>\n",
              "    </tr>\n",
              "    <tr>\n",
              "      <th>std</th>\n",
              "      <td>47488.145955</td>\n",
              "      <td>1.958696e+00</td>\n",
              "      <td>1.651309e+00</td>\n",
              "      <td>1.516255e+00</td>\n",
              "      <td>1.415869e+00</td>\n",
              "      <td>1.380247e+00</td>\n",
              "      <td>1.332271e+00</td>\n",
              "      <td>1.237094e+00</td>\n",
              "      <td>1.194353e+00</td>\n",
              "      <td>1.098632e+00</td>\n",
              "      <td>1.088850e+00</td>\n",
              "      <td>1.020713e+00</td>\n",
              "      <td>9.992014e-01</td>\n",
              "      <td>9.952742e-01</td>\n",
              "      <td>9.585956e-01</td>\n",
              "      <td>9.153160e-01</td>\n",
              "      <td>8.762529e-01</td>\n",
              "      <td>8.493371e-01</td>\n",
              "      <td>8.381762e-01</td>\n",
              "      <td>8.140405e-01</td>\n",
              "      <td>7.709250e-01</td>\n",
              "      <td>7.345240e-01</td>\n",
              "      <td>7.257016e-01</td>\n",
              "      <td>6.244603e-01</td>\n",
              "      <td>6.056471e-01</td>\n",
              "      <td>5.212781e-01</td>\n",
              "      <td>4.822270e-01</td>\n",
              "      <td>4.036325e-01</td>\n",
              "      <td>3.300833e-01</td>\n",
              "      <td>250.120109</td>\n",
              "      <td>0.041527</td>\n",
              "    </tr>\n",
              "    <tr>\n",
              "      <th>min</th>\n",
              "      <td>0.000000</td>\n",
              "      <td>-5.640751e+01</td>\n",
              "      <td>-7.271573e+01</td>\n",
              "      <td>-4.832559e+01</td>\n",
              "      <td>-5.683171e+00</td>\n",
              "      <td>-1.137433e+02</td>\n",
              "      <td>-2.616051e+01</td>\n",
              "      <td>-4.355724e+01</td>\n",
              "      <td>-7.321672e+01</td>\n",
              "      <td>-1.343407e+01</td>\n",
              "      <td>-2.458826e+01</td>\n",
              "      <td>-4.797473e+00</td>\n",
              "      <td>-1.868371e+01</td>\n",
              "      <td>-5.791881e+00</td>\n",
              "      <td>-1.921433e+01</td>\n",
              "      <td>-4.498945e+00</td>\n",
              "      <td>-1.412985e+01</td>\n",
              "      <td>-2.516280e+01</td>\n",
              "      <td>-9.498746e+00</td>\n",
              "      <td>-7.213527e+00</td>\n",
              "      <td>-5.449772e+01</td>\n",
              "      <td>-3.483038e+01</td>\n",
              "      <td>-1.093314e+01</td>\n",
              "      <td>-4.480774e+01</td>\n",
              "      <td>-2.836627e+00</td>\n",
              "      <td>-1.029540e+01</td>\n",
              "      <td>-2.604551e+00</td>\n",
              "      <td>-2.256568e+01</td>\n",
              "      <td>-1.543008e+01</td>\n",
              "      <td>0.000000</td>\n",
              "      <td>0.000000</td>\n",
              "    </tr>\n",
              "    <tr>\n",
              "      <th>25%</th>\n",
              "      <td>54201.500000</td>\n",
              "      <td>-9.203734e-01</td>\n",
              "      <td>-5.985499e-01</td>\n",
              "      <td>-8.903648e-01</td>\n",
              "      <td>-8.486401e-01</td>\n",
              "      <td>-6.915971e-01</td>\n",
              "      <td>-7.682956e-01</td>\n",
              "      <td>-5.540759e-01</td>\n",
              "      <td>-2.086297e-01</td>\n",
              "      <td>-6.430976e-01</td>\n",
              "      <td>-5.354257e-01</td>\n",
              "      <td>-7.624942e-01</td>\n",
              "      <td>-4.055715e-01</td>\n",
              "      <td>-6.485393e-01</td>\n",
              "      <td>-4.255740e-01</td>\n",
              "      <td>-5.828843e-01</td>\n",
              "      <td>-4.680368e-01</td>\n",
              "      <td>-4.837483e-01</td>\n",
              "      <td>-4.988498e-01</td>\n",
              "      <td>-4.562989e-01</td>\n",
              "      <td>-2.117214e-01</td>\n",
              "      <td>-2.283949e-01</td>\n",
              "      <td>-5.423504e-01</td>\n",
              "      <td>-1.618463e-01</td>\n",
              "      <td>-3.545861e-01</td>\n",
              "      <td>-3.171451e-01</td>\n",
              "      <td>-3.269839e-01</td>\n",
              "      <td>-7.083953e-02</td>\n",
              "      <td>-5.295979e-02</td>\n",
              "      <td>5.600000</td>\n",
              "      <td>0.000000</td>\n",
              "    </tr>\n",
              "    <tr>\n",
              "      <th>50%</th>\n",
              "      <td>84692.000000</td>\n",
              "      <td>1.810880e-02</td>\n",
              "      <td>6.548556e-02</td>\n",
              "      <td>1.798463e-01</td>\n",
              "      <td>-1.984653e-02</td>\n",
              "      <td>-5.433583e-02</td>\n",
              "      <td>-2.741871e-01</td>\n",
              "      <td>4.010308e-02</td>\n",
              "      <td>2.235804e-02</td>\n",
              "      <td>-5.142873e-02</td>\n",
              "      <td>-9.291738e-02</td>\n",
              "      <td>-3.275735e-02</td>\n",
              "      <td>1.400326e-01</td>\n",
              "      <td>-1.356806e-02</td>\n",
              "      <td>5.060132e-02</td>\n",
              "      <td>4.807155e-02</td>\n",
              "      <td>6.641332e-02</td>\n",
              "      <td>-6.567575e-02</td>\n",
              "      <td>-3.636312e-03</td>\n",
              "      <td>3.734823e-03</td>\n",
              "      <td>-6.248109e-02</td>\n",
              "      <td>-2.945017e-02</td>\n",
              "      <td>6.781943e-03</td>\n",
              "      <td>-1.119293e-02</td>\n",
              "      <td>4.097606e-02</td>\n",
              "      <td>1.659350e-02</td>\n",
              "      <td>-5.213911e-02</td>\n",
              "      <td>1.342146e-03</td>\n",
              "      <td>1.124383e-02</td>\n",
              "      <td>22.000000</td>\n",
              "      <td>0.000000</td>\n",
              "    </tr>\n",
              "    <tr>\n",
              "      <th>75%</th>\n",
              "      <td>139320.500000</td>\n",
              "      <td>1.315642e+00</td>\n",
              "      <td>8.037239e-01</td>\n",
              "      <td>1.027196e+00</td>\n",
              "      <td>7.433413e-01</td>\n",
              "      <td>6.119264e-01</td>\n",
              "      <td>3.985649e-01</td>\n",
              "      <td>5.704361e-01</td>\n",
              "      <td>3.273459e-01</td>\n",
              "      <td>5.971390e-01</td>\n",
              "      <td>4.539234e-01</td>\n",
              "      <td>7.395934e-01</td>\n",
              "      <td>6.182380e-01</td>\n",
              "      <td>6.625050e-01</td>\n",
              "      <td>4.931498e-01</td>\n",
              "      <td>6.488208e-01</td>\n",
              "      <td>5.232963e-01</td>\n",
              "      <td>3.996750e-01</td>\n",
              "      <td>5.008067e-01</td>\n",
              "      <td>4.589494e-01</td>\n",
              "      <td>1.330408e-01</td>\n",
              "      <td>1.863772e-01</td>\n",
              "      <td>5.285536e-01</td>\n",
              "      <td>1.476421e-01</td>\n",
              "      <td>4.395266e-01</td>\n",
              "      <td>3.507156e-01</td>\n",
              "      <td>2.409522e-01</td>\n",
              "      <td>9.104512e-02</td>\n",
              "      <td>7.827995e-02</td>\n",
              "      <td>77.165000</td>\n",
              "      <td>0.000000</td>\n",
              "    </tr>\n",
              "    <tr>\n",
              "      <th>max</th>\n",
              "      <td>172792.000000</td>\n",
              "      <td>2.454930e+00</td>\n",
              "      <td>2.205773e+01</td>\n",
              "      <td>9.382558e+00</td>\n",
              "      <td>1.687534e+01</td>\n",
              "      <td>3.480167e+01</td>\n",
              "      <td>7.330163e+01</td>\n",
              "      <td>1.205895e+02</td>\n",
              "      <td>2.000721e+01</td>\n",
              "      <td>1.559499e+01</td>\n",
              "      <td>2.374514e+01</td>\n",
              "      <td>1.201891e+01</td>\n",
              "      <td>7.848392e+00</td>\n",
              "      <td>7.126883e+00</td>\n",
              "      <td>1.052677e+01</td>\n",
              "      <td>8.877742e+00</td>\n",
              "      <td>1.731511e+01</td>\n",
              "      <td>9.253526e+00</td>\n",
              "      <td>5.041069e+00</td>\n",
              "      <td>5.591971e+00</td>\n",
              "      <td>3.942090e+01</td>\n",
              "      <td>2.720284e+01</td>\n",
              "      <td>1.050309e+01</td>\n",
              "      <td>2.252841e+01</td>\n",
              "      <td>4.584549e+00</td>\n",
              "      <td>7.519589e+00</td>\n",
              "      <td>3.517346e+00</td>\n",
              "      <td>3.161220e+01</td>\n",
              "      <td>3.384781e+01</td>\n",
              "      <td>25691.160000</td>\n",
              "      <td>1.000000</td>\n",
              "    </tr>\n",
              "  </tbody>\n",
              "</table>\n",
              "</div>"
            ],
            "text/plain": [
              "                Time            V1  ...         Amount          Class\n",
              "count  284807.000000  2.848070e+05  ...  284807.000000  284807.000000\n",
              "mean    94813.859575  3.919560e-15  ...      88.349619       0.001727\n",
              "std     47488.145955  1.958696e+00  ...     250.120109       0.041527\n",
              "min         0.000000 -5.640751e+01  ...       0.000000       0.000000\n",
              "25%     54201.500000 -9.203734e-01  ...       5.600000       0.000000\n",
              "50%     84692.000000  1.810880e-02  ...      22.000000       0.000000\n",
              "75%    139320.500000  1.315642e+00  ...      77.165000       0.000000\n",
              "max    172792.000000  2.454930e+00  ...   25691.160000       1.000000\n",
              "\n",
              "[8 rows x 31 columns]"
            ]
          },
          "metadata": {
            "tags": []
          },
          "execution_count": 8
        }
      ]
    },
    {
      "cell_type": "code",
      "metadata": {
        "colab": {
          "base_uri": "https://localhost:8080/"
        },
        "id": "jq6gEMKvXWqn",
        "outputId": "bf289ef9-685d-4894-b01c-cb8a62abe898"
      },
      "source": [
        "data['Class'].unique()"
      ],
      "execution_count": null,
      "outputs": [
        {
          "output_type": "execute_result",
          "data": {
            "text/plain": [
              "array([0, 1])"
            ]
          },
          "metadata": {
            "tags": []
          },
          "execution_count": 9
        }
      ]
    },
    {
      "cell_type": "code",
      "metadata": {
        "colab": {
          "base_uri": "https://localhost:8080/"
        },
        "id": "szM0URIxn-Yi",
        "outputId": "1afc0015-290c-4115-afa4-afef797d4684"
      },
      "source": [
        "print('Genuine', round(data['Class'].value_counts()[0]/len(data) * 100,2), '% of the dataset')\n",
        "print('Frauds', round(data['Class'].value_counts()[1]/len(data) * 100,2), '% of the dataset')"
      ],
      "execution_count": 6,
      "outputs": [
        {
          "output_type": "stream",
          "text": [
            "Genuine 99.83 % of the dataset\n",
            "Frauds 0.17 % of the dataset\n"
          ],
          "name": "stdout"
        }
      ]
    },
    {
      "cell_type": "code",
      "metadata": {
        "colab": {
          "base_uri": "https://localhost:8080/"
        },
        "id": "r8hqOWBxpqP5",
        "outputId": "b7afd041-8ac4-4fe6-d8f8-eedd42650919"
      },
      "source": [
        "data['Class'].value_counts()"
      ],
      "execution_count": null,
      "outputs": [
        {
          "output_type": "execute_result",
          "data": {
            "text/plain": [
              "0    284315\n",
              "1       492\n",
              "Name: Class, dtype: int64"
            ]
          },
          "metadata": {
            "tags": []
          },
          "execution_count": 11
        }
      ]
    },
    {
      "cell_type": "markdown",
      "metadata": {
        "id": "5R0GCQl2SLbN"
      },
      "source": [
        "### Checking the frequency of frauds"
      ]
    },
    {
      "cell_type": "code",
      "metadata": {
        "id": "QG4Tb_xdXWqq",
        "colab": {
          "base_uri": "https://localhost:8080/",
          "height": 303
        },
        "outputId": "8318be58-9178-4cf1-b8cf-f68ebf80eb47"
      },
      "source": [
        "sns.set(style='darkgrid', palette='colorblind')\n",
        "sns.countplot(x=data.Class, hue=data['Class'])"
      ],
      "execution_count": null,
      "outputs": [
        {
          "output_type": "execute_result",
          "data": {
            "text/plain": [
              "<matplotlib.axes._subplots.AxesSubplot at 0x7f49290f9490>"
            ]
          },
          "metadata": {
            "tags": []
          },
          "execution_count": 12
        },
        {
          "output_type": "display_data",
          "data": {
            "image/png": "[encoded data removed]",
            "text/plain": [
              "<Figure size 432x288 with 1 Axes>"
            ]
          },
          "metadata": {
            "tags": []
          }
        }
      ]
    },
    {
      "cell_type": "code",
      "metadata": {
        "id": "xJKjMdC9SLbO",
        "colab": {
          "base_uri": "https://localhost:8080/",
          "height": 395
        },
        "outputId": "312497c6-6178-4d87-da0b-a74cf4beb789"
      },
      "source": [
        "data.Class.value_counts().plot(kind = 'pie',explode=[0, 0.1],figsize=(6, 6),autopct='%1.1f%%',shadow=True)\n",
        "plt.title(\"Fraudulent and Non-Fraudulent Distribution\",fontsize=20)\n",
        "plt.legend([\"Fraud\", \"Genuine\"])"
      ],
      "execution_count": null,
      "outputs": [
        {
          "output_type": "execute_result",
          "data": {
            "text/plain": [
              "<matplotlib.legend.Legend at 0x7f49290bcad0>"
            ]
          },
          "metadata": {
            "tags": []
          },
          "execution_count": 13
        },
        {
          "output_type": "display_data",
          "data": {
            "image/png": "[encoded data removed]",
            "text/plain": [
              "<Figure size 432x432 with 1 Axes>"
            ]
          },
          "metadata": {
            "tags": []
          }
        }
      ]
    },
    {
      "cell_type": "code",
      "metadata": {
        "id": "AjRedTm3XWqn"
      },
      "source": [
        "LABELS = ['Genuine', 'Fraud']"
      ],
      "execution_count": 7,
      "outputs": []
    },
    {
      "cell_type": "code",
      "metadata": {
        "colab": {
          "base_uri": "https://localhost:8080/",
          "height": 313
        },
        "id": "ZOnpjjhVXWqo",
        "outputId": "8a942088-7eeb-45fb-902e-4542c8037e90"
      },
      "source": [
        "plt.scatter('Class','Amount',data =data)\n",
        "plt.xlabel('Genuine / Fraud')\n",
        "plt.ylabel('Transaction Amount')\n",
        "plt.xticks(range(2),LABELS)\n",
        "plt.title('Transactions Amt Vs Genuine & Fraud Transactions')"
      ],
      "execution_count": 8,
      "outputs": [
        {
          "output_type": "execute_result",
          "data": {
            "text/plain": [
              "Text(0.5, 1.0, 'Transactions Amt Vs Genuine & Fraud Transactions')"
            ]
          },
          "metadata": {
            "tags": []
          },
          "execution_count": 8
        },
        {
          "output_type": "display_data",
          "data": {
            "image/png": "[encoded data removed]",
            "text/plain": [
              "<Figure size 432x288 with 1 Axes>"
            ]
          },
          "metadata": {
            "tags": [],
            "needs_background": "light"
          }
        }
      ]
    },
    {
      "cell_type": "markdown",
      "metadata": {
        "id": "OJhW2PDGXWqp"
      },
      "source": [
        "## Observe The distribution of classes with time \n"
      ]
    },
    {
      "cell_type": "code",
      "metadata": {
        "id": "ly-XKw1aXWqq"
      },
      "source": [
        "fraud = data[data['Class'] == 1]\n",
        "genuine = data[data['Class'] == 0]"
      ],
      "execution_count": 9,
      "outputs": []
    },
    {
      "cell_type": "code",
      "metadata": {
        "id": "Wai-HK2IXWqq",
        "colab": {
          "base_uri": "https://localhost:8080/",
          "height": 417
        },
        "outputId": "454766a5-6ab0-4e16-c0b3-d08904ec962b"
      },
      "source": [
        "#distribution plot \n",
        "\n",
        "plt.figure(figsize= (10,6))\n",
        "ax = sns.distplot(fraud['Time'], label ='fraudulent',hist = False)\n",
        "ax = sns.distplot(genuine['Time'], label = 'non fraudulent' , hist = False)\n",
        "\n",
        "ax.set_xlabel(\"Second elapsed between the transaction and the first transaction\" )"
      ],
      "execution_count": 12,
      "outputs": [
        {
          "output_type": "execute_result",
          "data": {
            "text/plain": [
              "Text(0.5, 0, 'Second elapsed between the transaction and the first transaction')"
            ]
          },
          "metadata": {
            "tags": []
          },
          "execution_count": 12
        },
        {
          "output_type": "display_data",
          "data": {
            "image/png": "[encoded data removed]",
            "text/plain": [
              "<Figure size 720x432 with 1 Axes>"
            ]
          },
          "metadata": {
            "tags": [],
            "needs_background": "light"
          }
        }
      ]
    },
    {
      "cell_type": "markdown",
      "metadata": {
        "id": "9r214ulRXWqr"
      },
      "source": [
        "## **Analysis**\n",
        "No specific pattern for the Fraud and Genuine transctions with respect to Time is visible \n",
        "Hence, the Time attribute is dropped."
      ]
    },
    {
      "cell_type": "code",
      "metadata": {
        "id": "xocyXd19XWqr"
      },
      "source": [
        "data.drop('Time',axis = 1  ,inplace = True)"
      ],
      "execution_count": 13,
      "outputs": []
    },
    {
      "cell_type": "markdown",
      "metadata": {
        "id": "S2-lT-xYXWqr"
      },
      "source": [
        "### Observe the distribution of classes with amount \n",
        "\n"
      ]
    },
    {
      "cell_type": "code",
      "metadata": {
        "id": "hKp4fh7rXWqr",
        "colab": {
          "base_uri": "https://localhost:8080/",
          "height": 407
        },
        "outputId": "0760eb4a-3464-43d0-846f-321dc1b306cf"
      },
      "source": [
        "plt.figure(figsize= (10,6))\n",
        "\n",
        "ax = sns.distplot(fraud['Amount'] , label ='fraud' , hist = False)\n",
        "ax = sns.distplot(genuine['Amount'] , label = 'genuine' , hist = False)\n",
        "ax.set_xlabel('Transaction_amount')\n",
        "ax.legend()"
      ],
      "execution_count": 14,
      "outputs": [
        {
          "output_type": "execute_result",
          "data": {
            "text/plain": [
              "<matplotlib.legend.Legend at 0x7f099192e090>"
            ]
          },
          "metadata": {
            "tags": []
          },
          "execution_count": 14
        },
        {
          "output_type": "display_data",
          "data": {
            "image/png": "[encoded data removed]",
            "text/plain": [
              "<Figure size 720x432 with 1 Axes>"
            ]
          },
          "metadata": {
            "tags": [],
            "needs_background": "light"
          }
        }
      ]
    },
    {
      "cell_type": "markdown",
      "metadata": {
        "id": "_FWVr7wrXWqs"
      },
      "source": [
        "We can see that the fraudulent transactions are mostly densed in the lower range of amount, whereas the non-fraudulent transactions are spread throughout low to high range of amount."
      ]
    },
    {
      "cell_type": "markdown",
      "metadata": {
        "id": "8rM-eU2gSLbS"
      },
      "source": [
        "## Scale the data"
      ]
    },
    {
      "cell_type": "markdown",
      "metadata": {
        "id": "yjJLVvQ4gOe4"
      },
      "source": [
        "\n",
        "Based on the description of the data given ,all the features have already through a PCA transformation (Dimensionality Reduction technique) (Except for time and amount).So before going further the amount attribute also needs to be scaled."
      ]
    },
    {
      "cell_type": "code",
      "metadata": {
        "id": "-6rEgFD_SLbS"
      },
      "source": [
        "from sklearn.preprocessing import StandardScaler # importing a class from a module of a library\n",
        "\n",
        "scaler = StandardScaler() # object of the class StandardScaler ()\n",
        "data['Amount_scaled'] = scaler.fit_transform(data['Amount'].values.reshape(-1,1))"
      ],
      "execution_count": 15,
      "outputs": []
    },
    {
      "cell_type": "code",
      "metadata": {
        "colab": {
          "base_uri": "https://localhost:8080/",
          "height": 226
        },
        "id": "t8k8ncrqSLbS",
        "outputId": "668974a1-961a-4c7f-d2e4-b84c8b44590f"
      },
      "source": [
        "data.head()"
      ],
      "execution_count": 16,
      "outputs": [
        {
          "output_type": "execute_result",
          "data": {
            "text/html": [
              "<div>\n",
              "<style scoped>\n",
              "    .dataframe tbody tr th:only-of-type {\n",
              "        vertical-align: middle;\n",
              "    }\n",
              "\n",
              "    .dataframe tbody tr th {\n",
              "        vertical-align: top;\n",
              "    }\n",
              "\n",
              "    .dataframe thead th {\n",
              "        text-align: right;\n",
              "    }\n",
              "</style>\n",
              "<table border=\"1\" class=\"dataframe\">\n",
              "  <thead>\n",
              "    <tr style=\"text-align: right;\">\n",
              "      <th></th>\n",
              "      <th>V1</th>\n",
              "      <th>V2</th>\n",
              "      <th>V3</th>\n",
              "      <th>V4</th>\n",
              "      <th>V5</th>\n",
              "      <th>V6</th>\n",
              "      <th>V7</th>\n",
              "      <th>V8</th>\n",
              "      <th>V9</th>\n",
              "      <th>V10</th>\n",
              "      <th>V11</th>\n",
              "      <th>V12</th>\n",
              "      <th>V13</th>\n",
              "      <th>V14</th>\n",
              "      <th>V15</th>\n",
              "      <th>V16</th>\n",
              "      <th>V17</th>\n",
              "      <th>V18</th>\n",
              "      <th>V19</th>\n",
              "      <th>V20</th>\n",
              "      <th>V21</th>\n",
              "      <th>V22</th>\n",
              "      <th>V23</th>\n",
              "      <th>V24</th>\n",
              "      <th>V25</th>\n",
              "      <th>V26</th>\n",
              "      <th>V27</th>\n",
              "      <th>V28</th>\n",
              "      <th>Amount</th>\n",
              "      <th>Class</th>\n",
              "      <th>Amount_scaled</th>\n",
              "    </tr>\n",
              "  </thead>\n",
              "  <tbody>\n",
              "    <tr>\n",
              "      <th>0</th>\n",
              "      <td>-1.359807</td>\n",
              "      <td>-0.072781</td>\n",
              "      <td>2.536347</td>\n",
              "      <td>1.378155</td>\n",
              "      <td>-0.338321</td>\n",
              "      <td>0.462388</td>\n",
              "      <td>0.239599</td>\n",
              "      <td>0.098698</td>\n",
              "      <td>0.363787</td>\n",
              "      <td>0.090794</td>\n",
              "      <td>-0.551600</td>\n",
              "      <td>-0.617801</td>\n",
              "      <td>-0.991390</td>\n",
              "      <td>-0.311169</td>\n",
              "      <td>1.468177</td>\n",
              "      <td>-0.470401</td>\n",
              "      <td>0.207971</td>\n",
              "      <td>0.025791</td>\n",
              "      <td>0.403993</td>\n",
              "      <td>0.251412</td>\n",
              "      <td>-0.018307</td>\n",
              "      <td>0.277838</td>\n",
              "      <td>-0.110474</td>\n",
              "      <td>0.066928</td>\n",
              "      <td>0.128539</td>\n",
              "      <td>-0.189115</td>\n",
              "      <td>0.133558</td>\n",
              "      <td>-0.021053</td>\n",
              "      <td>149.62</td>\n",
              "      <td>0</td>\n",
              "      <td>0.244964</td>\n",
              "    </tr>\n",
              "    <tr>\n",
              "      <th>1</th>\n",
              "      <td>1.191857</td>\n",
              "      <td>0.266151</td>\n",
              "      <td>0.166480</td>\n",
              "      <td>0.448154</td>\n",
              "      <td>0.060018</td>\n",
              "      <td>-0.082361</td>\n",
              "      <td>-0.078803</td>\n",
              "      <td>0.085102</td>\n",
              "      <td>-0.255425</td>\n",
              "      <td>-0.166974</td>\n",
              "      <td>1.612727</td>\n",
              "      <td>1.065235</td>\n",
              "      <td>0.489095</td>\n",
              "      <td>-0.143772</td>\n",
              "      <td>0.635558</td>\n",
              "      <td>0.463917</td>\n",
              "      <td>-0.114805</td>\n",
              "      <td>-0.183361</td>\n",
              "      <td>-0.145783</td>\n",
              "      <td>-0.069083</td>\n",
              "      <td>-0.225775</td>\n",
              "      <td>-0.638672</td>\n",
              "      <td>0.101288</td>\n",
              "      <td>-0.339846</td>\n",
              "      <td>0.167170</td>\n",
              "      <td>0.125895</td>\n",
              "      <td>-0.008983</td>\n",
              "      <td>0.014724</td>\n",
              "      <td>2.69</td>\n",
              "      <td>0</td>\n",
              "      <td>-0.342475</td>\n",
              "    </tr>\n",
              "    <tr>\n",
              "      <th>2</th>\n",
              "      <td>-1.358354</td>\n",
              "      <td>-1.340163</td>\n",
              "      <td>1.773209</td>\n",
              "      <td>0.379780</td>\n",
              "      <td>-0.503198</td>\n",
              "      <td>1.800499</td>\n",
              "      <td>0.791461</td>\n",
              "      <td>0.247676</td>\n",
              "      <td>-1.514654</td>\n",
              "      <td>0.207643</td>\n",
              "      <td>0.624501</td>\n",
              "      <td>0.066084</td>\n",
              "      <td>0.717293</td>\n",
              "      <td>-0.165946</td>\n",
              "      <td>2.345865</td>\n",
              "      <td>-2.890083</td>\n",
              "      <td>1.109969</td>\n",
              "      <td>-0.121359</td>\n",
              "      <td>-2.261857</td>\n",
              "      <td>0.524980</td>\n",
              "      <td>0.247998</td>\n",
              "      <td>0.771679</td>\n",
              "      <td>0.909412</td>\n",
              "      <td>-0.689281</td>\n",
              "      <td>-0.327642</td>\n",
              "      <td>-0.139097</td>\n",
              "      <td>-0.055353</td>\n",
              "      <td>-0.059752</td>\n",
              "      <td>378.66</td>\n",
              "      <td>0</td>\n",
              "      <td>1.160686</td>\n",
              "    </tr>\n",
              "    <tr>\n",
              "      <th>3</th>\n",
              "      <td>-0.966272</td>\n",
              "      <td>-0.185226</td>\n",
              "      <td>1.792993</td>\n",
              "      <td>-0.863291</td>\n",
              "      <td>-0.010309</td>\n",
              "      <td>1.247203</td>\n",
              "      <td>0.237609</td>\n",
              "      <td>0.377436</td>\n",
              "      <td>-1.387024</td>\n",
              "      <td>-0.054952</td>\n",
              "      <td>-0.226487</td>\n",
              "      <td>0.178228</td>\n",
              "      <td>0.507757</td>\n",
              "      <td>-0.287924</td>\n",
              "      <td>-0.631418</td>\n",
              "      <td>-1.059647</td>\n",
              "      <td>-0.684093</td>\n",
              "      <td>1.965775</td>\n",
              "      <td>-1.232622</td>\n",
              "      <td>-0.208038</td>\n",
              "      <td>-0.108300</td>\n",
              "      <td>0.005274</td>\n",
              "      <td>-0.190321</td>\n",
              "      <td>-1.175575</td>\n",
              "      <td>0.647376</td>\n",
              "      <td>-0.221929</td>\n",
              "      <td>0.062723</td>\n",
              "      <td>0.061458</td>\n",
              "      <td>123.50</td>\n",
              "      <td>0</td>\n",
              "      <td>0.140534</td>\n",
              "    </tr>\n",
              "    <tr>\n",
              "      <th>4</th>\n",
              "      <td>-1.158233</td>\n",
              "      <td>0.877737</td>\n",
              "      <td>1.548718</td>\n",
              "      <td>0.403034</td>\n",
              "      <td>-0.407193</td>\n",
              "      <td>0.095921</td>\n",
              "      <td>0.592941</td>\n",
              "      <td>-0.270533</td>\n",
              "      <td>0.817739</td>\n",
              "      <td>0.753074</td>\n",
              "      <td>-0.822843</td>\n",
              "      <td>0.538196</td>\n",
              "      <td>1.345852</td>\n",
              "      <td>-1.119670</td>\n",
              "      <td>0.175121</td>\n",
              "      <td>-0.451449</td>\n",
              "      <td>-0.237033</td>\n",
              "      <td>-0.038195</td>\n",
              "      <td>0.803487</td>\n",
              "      <td>0.408542</td>\n",
              "      <td>-0.009431</td>\n",
              "      <td>0.798278</td>\n",
              "      <td>-0.137458</td>\n",
              "      <td>0.141267</td>\n",
              "      <td>-0.206010</td>\n",
              "      <td>0.502292</td>\n",
              "      <td>0.219422</td>\n",
              "      <td>0.215153</td>\n",
              "      <td>69.99</td>\n",
              "      <td>0</td>\n",
              "      <td>-0.073403</td>\n",
              "    </tr>\n",
              "  </tbody>\n",
              "</table>\n",
              "</div>"
            ],
            "text/plain": [
              "         V1        V2        V3  ...  Amount  Class  Amount_scaled\n",
              "0 -1.359807 -0.072781  2.536347  ...  149.62      0       0.244964\n",
              "1  1.191857  0.266151  0.166480  ...    2.69      0      -0.342475\n",
              "2 -1.358354 -1.340163  1.773209  ...  378.66      0       1.160686\n",
              "3 -0.966272 -0.185226  1.792993  ...  123.50      0       0.140534\n",
              "4 -1.158233  0.877737  1.548718  ...   69.99      0      -0.073403\n",
              "\n",
              "[5 rows x 31 columns]"
            ]
          },
          "metadata": {
            "tags": []
          },
          "execution_count": 16
        }
      ]
    },
    {
      "cell_type": "markdown",
      "metadata": {
        "id": "cixTL8xHiaPy"
      },
      "source": [
        "## **Separate Target Variable and Predictor Variables**"
      ]
    },
    {
      "cell_type": "code",
      "metadata": {
        "id": "OuxkdP4rXWqs"
      },
      "source": [
        "# Separate Target Variable and Predictor Variables\n",
        "X = data.drop(['Class','Amount'] , axis =1)\n",
        "y = data['Class']\n"
      ],
      "execution_count": 17,
      "outputs": []
    },
    {
      "cell_type": "code",
      "metadata": {
        "colab": {
          "base_uri": "https://localhost:8080/"
        },
        "id": "-5Lnm2mFSLbU",
        "outputId": "7f70fbf6-793d-43f8-cb34-9478589d01f8"
      },
      "source": [
        "X.columns"
      ],
      "execution_count": null,
      "outputs": [
        {
          "output_type": "execute_result",
          "data": {
            "text/plain": [
              "Index(['V1', 'V2', 'V3', 'V4', 'V5', 'V6', 'V7', 'V8', 'V9', 'V10', 'V11',\n",
              "       'V12', 'V13', 'V14', 'V15', 'V16', 'V17', 'V18', 'V19', 'V20', 'V21',\n",
              "       'V22', 'V23', 'V24', 'V25', 'V26', 'V27', 'V28', 'Amount_scaled'],\n",
              "      dtype='object')"
            ]
          },
          "metadata": {
            "tags": []
          },
          "execution_count": 24
        }
      ]
    },
    {
      "cell_type": "markdown",
      "metadata": {
        "id": "-FXD6hxAXWqs"
      },
      "source": [
        "## **Train Test Split** "
      ]
    },
    {
      "cell_type": "code",
      "metadata": {
        "id": "74QMAS0TXWqs"
      },
      "source": [
        "from sklearn.model_selection import train_test_split\n",
        "X_train , X_test , y_train , y_test = train_test_split(X , y ,test_size=0.3,random_state =101)"
      ],
      "execution_count": 18,
      "outputs": []
    },
    {
      "cell_type": "code",
      "metadata": {
        "colab": {
          "base_uri": "https://localhost:8080/"
        },
        "id": "vn_pOStISLbU",
        "outputId": "72e56090-ac5c-4a0b-810f-e233dbedab03"
      },
      "source": [
        "# Quick sanity check with the shapes of Training and testing datasets\n",
        "print(\"X_train - \",X_train.shape)\n",
        "print(\"y_train - \",y_train.shape)\n",
        "print(\"X_test - \",X_test.shape)\n",
        "print(\"y_test - \",y_test.shape)"
      ],
      "execution_count": 19,
      "outputs": [
        {
          "output_type": "stream",
          "text": [
            "X_train -  (199364, 29)\n",
            "y_train -  (199364,)\n",
            "X_test -  (85443, 29)\n",
            "y_test -  (85443,)\n"
          ],
          "name": "stdout"
        }
      ]
    },
    {
      "cell_type": "markdown",
      "metadata": {
        "id": "jNofj-hXSLbU"
      },
      "source": [
        "### Class Imbalance\n",
        "Imbalanced data typically refers to a problem with classification problems where the classes are not represented equally. If one applies classifiers on the dataset, they are likely to predict everything as the majority class.\n",
        "This was often regarded as a problem in learning from highly imbalanced datasets."
      ]
    },
    {
      "cell_type": "markdown",
      "metadata": {
        "id": "VL7hFQZQSLbU"
      },
      "source": [
        "## **Synthetic Minority OverSampling Technique (SMOTE)**\n",
        "In this technique, instead of simply duplicating data from the minority class, we synthesize new data from the minority class. This is a type of data augmentation for tabular data can be very effective. This approach to synthesizing new data is called the Synthetic Minority Oversampling Technique, or SMOTE for short.\n"
      ]
    },
    {
      "cell_type": "markdown",
      "metadata": {
        "id": "0tVrz5nhSLbV"
      },
      "source": [
        "### Import imbalace technique algorithims"
      ]
    },
    {
      "cell_type": "code",
      "metadata": {
        "id": "yMTaEVyJ1ktT"
      },
      "source": [
        "from imblearn.over_sampling import SMOTE"
      ],
      "execution_count": 20,
      "outputs": []
    },
    {
      "cell_type": "code",
      "metadata": {
        "colab": {
          "base_uri": "https://localhost:8080/"
        },
        "id": "Q0SV1ljZSLbV",
        "outputId": "e21b6ecc-2c31-4ba4-c335-326cf9ed895a"
      },
      "source": [
        "from collections import Counter # counter takes values returns value_counts dictionary\n",
        "print('Original dataset shape %s' % Counter(y_train))\n",
        "\n",
        "\n",
        "smote = SMOTE(random_state=42)\n",
        "X_train_smote, y_train_smote = smote.fit_resample(X_train, y_train)\n",
        "\n",
        "print('Resampled dataset shape %s' % Counter(y_train_smote))"
      ],
      "execution_count": 21,
      "outputs": [
        {
          "output_type": "stream",
          "text": [
            "Original dataset shape Counter({0: 199016, 1: 348})\n",
            "Resampled dataset shape Counter({0: 199016, 1: 199016})\n"
          ],
          "name": "stdout"
        }
      ]
    },
    {
      "cell_type": "markdown",
      "metadata": {
        "id": "qOa0_Ebyuoxz"
      },
      "source": [
        "## **Logistic Regression** "
      ]
    },
    {
      "cell_type": "code",
      "metadata": {
        "id": "ynRCabKXSLbV"
      },
      "source": [
        "# SMOTE Sampling with Logistic Regression\n",
        "logreg = LogisticRegression(max_iter=1000)\n",
        "logreg.fit(X_train_smote, y_train_smote)\n",
        "\n",
        "y_pred1 = logreg.predict(X_test)"
      ],
      "execution_count": 46,
      "outputs": []
    },
    {
      "cell_type": "code",
      "metadata": {
        "colab": {
          "base_uri": "https://localhost:8080/"
        },
        "id": "pj7pU5NkSLbW",
        "outputId": "f732fc38-2aef-4e57-e8ae-232d345f54cb"
      },
      "source": [
        "from sklearn.metrics import precision_score, recall_score, f1_score, roc_auc_score, accuracy_score, classification_report\n",
        "print('Accuracy :{0:0.5f}'.format(metrics.accuracy_score(y_test , y_pred1))) \n",
        "print('AUC : {0:0.5f}'.format(metrics.roc_auc_score(y_test , y_pred1)))\n",
        "print('Precision : {0:0.5f}'.format(metrics.precision_score(y_test , y_pred1)))\n",
        "print('Recall : {0:0.5f}'.format(metrics.recall_score(y_test , y_pred1)))\n",
        "print('F1 : {0:0.5f}'.format(metrics.f1_score(y_test , y_pred1)))"
      ],
      "execution_count": 47,
      "outputs": [
        {
          "output_type": "stream",
          "text": [
            "Accuracy :0.97662\n",
            "AUC : 0.93976\n",
            "Precision : 0.06149\n",
            "Recall : 0.90278\n",
            "F1 : 0.11515\n"
          ],
          "name": "stdout"
        }
      ]
    },
    {
      "cell_type": "code",
      "metadata": {
        "id": "scjIoWbKSLbW",
        "colab": {
          "base_uri": "https://localhost:8080/",
          "height": 462
        },
        "outputId": "915aabaf-667a-470c-cdb2-f1a2cc6899ab"
      },
      "source": [
        "# plot ROC Curve\n",
        "sns.set(style='darkgrid', palette='colorblind')\n",
        "plt.figure(figsize=(8,6))\n",
        "\n",
        "fpr, tpr, thresholds1 = metrics.roc_curve(y_test, y_pred1)\n",
        "\n",
        "auc = metrics.roc_auc_score(y_test, y_pred1)\n",
        "print(\"AUC - \",auc,\"\\n\")\n",
        "\n",
        "plt.plot(fpr,tpr,linewidth=2, label=\"data 1, auc=\"+str(auc))\n",
        "plt.legend(loc=4)\n",
        "\n",
        "plt.plot([0,1], [0,1], 'k--' )\n",
        "\n",
        "plt.rcParams['font.size'] = 12\n",
        "plt.title('ROC curve for Predicting a credit card fraud detection')\n",
        "plt.xlabel('False Positive Rate (1 - Specificity)')\n",
        "plt.ylabel('True Positive Rate (Sensitivity)')\n"
      ],
      "execution_count": 48,
      "outputs": [
        {
          "output_type": "stream",
          "text": [
            "AUC -  0.9397592097601769 \n",
            "\n"
          ],
          "name": "stdout"
        },
        {
          "output_type": "execute_result",
          "data": {
            "text/plain": [
              "Text(0, 0.5, 'True Positive Rate (Sensitivity)')"
            ]
          },
          "metadata": {
            "tags": []
          },
          "execution_count": 48
        },
        {
          "output_type": "display_data",
          "data": {
            "image/png": "[encoded data removed]",
            "text/plain": [
              "<Figure size 576x432 with 1 Axes>"
            ]
          },
          "metadata": {
            "tags": []
          }
        }
      ]
    },
    {
      "cell_type": "code",
      "metadata": {
        "id": "6Qog0A1mSLbW",
        "colab": {
          "base_uri": "https://localhost:8080/",
          "height": 285
        },
        "outputId": "76e0822f-a919-475d-d8f9-1c8c94de8946"
      },
      "source": [
        "# calculate precision-recall curve\n",
        "precision, recall, thresholds = metrics.precision_recall_curve(y_test, y_pred1)\n",
        "sns.set(style='darkgrid', palette='colorblind')\n",
        "# calculate F1 score\n",
        "f1 = metrics.f1_score(y_test, y_pred1)\n",
        "print('f1=%.3f' % (f1))\n",
        "\n",
        "# plot no skill\n",
        "plt.plot([0, 1], [0.5, 0.5], linestyle='--')\n",
        "\n",
        "# plot the roc curve for the model\n",
        "plt.plot(recall, precision, marker='.')\n",
        "\n",
        "# show the plot\n",
        "plt.show()"
      ],
      "execution_count": 49,
      "outputs": [
        {
          "output_type": "stream",
          "text": [
            "f1=0.115\n"
          ],
          "name": "stdout"
        },
        {
          "output_type": "display_data",
          "data": {
            "image/png": "[encoded data removed]",
            "text/plain": [
              "<Figure size 432x288 with 1 Axes>"
            ]
          },
          "metadata": {
            "tags": []
          }
        }
      ]
    },
    {
      "cell_type": "code",
      "metadata": {
        "colab": {
          "base_uri": "https://localhost:8080/",
          "height": 329
        },
        "id": "ImqumK0ESLbX",
        "outputId": "7d0f510e-0609-4901-dc54-c886bc538f3b"
      },
      "source": [
        "# Heatmap for Confusion Matrix\n",
        "from google.colab import files\n",
        "cnf_matrix = metrics.confusion_matrix(y_test , y_pred1)\n",
        "sns.heatmap(pd.DataFrame(cnf_matrix), annot=True, annot_kws={\"size\": 25}, cmap=\"coolwarm\" ,fmt='g')\n",
        "\n",
        "plt.title('Confusion matrix', y=1.1, fontsize = 22)\n",
        "plt.xlabel('Predicted',fontsize = 18)\n",
        "plt.ylabel('Actual',fontsize = 18)\n"
      ],
      "execution_count": 50,
      "outputs": [
        {
          "output_type": "execute_result",
          "data": {
            "text/plain": [
              "Text(30.5, 0.5, 'Actual')"
            ]
          },
          "metadata": {
            "tags": []
          },
          "execution_count": 50
        },
        {
          "output_type": "display_data",
          "data": {
            "image/png": "[encoded data removed]",
            "text/plain": [
              "<Figure size 432x288 with 2 Axes>"
            ]
          },
          "metadata": {
            "tags": []
          }
        }
      ]
    },
    {
      "cell_type": "code",
      "metadata": {
        "id": "Y0XAdnPDSLbX",
        "colab": {
          "base_uri": "https://localhost:8080/"
        },
        "outputId": "5cc74564-4086-43e8-8793-cf2e63788941"
      },
      "source": [
        "# draw confusion matrix\n",
        "cnf_matrix = metrics.confusion_matrix(y_test , y_pred1)\n",
        "\n",
        "print('Confusion Matrix : \\n', cnf_matrix)"
      ],
      "execution_count": 51,
      "outputs": [
        {
          "output_type": "stream",
          "text": [
            "Confusion Matrix : \n",
            " [[83315  1984]\n",
            " [   14   130]]\n"
          ],
          "name": "stdout"
        }
      ]
    },
    {
      "cell_type": "markdown",
      "metadata": {
        "id": "h-jLRLzqAsmu"
      },
      "source": [
        "\n",
        "\n",
        "---\n",
        "\n",
        "\n",
        "\n",
        "---\n",
        "\n"
      ]
    },
    {
      "cell_type": "markdown",
      "metadata": {
        "id": "W23q7Zt_AhIU"
      },
      "source": [
        "## Random Forest Classifier"
      ]
    },
    {
      "cell_type": "code",
      "metadata": {
        "id": "KrR7IKJ7SLbY"
      },
      "source": [
        "from sklearn.ensemble import RandomForestClassifier\n",
        "\n",
        "rdf_classifier = RandomForestClassifier(random_state = 101)\n",
        "rdf_classifier.fit(X_train_smote,y_train_smote)\n",
        "y_pred2 = rdf_classifier.predict(X_test)"
      ],
      "execution_count": 45,
      "outputs": []
    },
    {
      "cell_type": "code",
      "metadata": {
        "id": "dk04Zs16SLbY",
        "colab": {
          "base_uri": "https://localhost:8080/"
        },
        "outputId": "c4e1b146-b5af-48fe-ee12-36c9b0ec2502"
      },
      "source": [
        "print('Accuracy :{0:0.5f}'.format(metrics.accuracy_score(y_test , y_pred2))) \n",
        "print('AUC : {0:0.5f}'.format(metrics.roc_auc_score(y_test , y_pred2)))\n",
        "print('Precision : {0:0.5f}'.format(metrics.precision_score(y_test , y_pred2)))\n",
        "print('Recall : {0:0.5f}'.format(metrics.recall_score(y_test , y_pred2)))\n",
        "print('F1 : {0:0.5f}'.format(metrics.f1_score(y_test , y_pred2)))"
      ],
      "execution_count": 52,
      "outputs": [
        {
          "output_type": "stream",
          "text": [
            "Accuracy :0.99951\n",
            "AUC : 0.91656\n",
            "Precision : 0.86957\n",
            "Recall : 0.83333\n",
            "F1 : 0.85106\n"
          ],
          "name": "stdout"
        }
      ]
    },
    {
      "cell_type": "code",
      "metadata": {
        "id": "Ip1NHWrASLbY",
        "colab": {
          "base_uri": "https://localhost:8080/",
          "height": 0
        },
        "outputId": "0f301d1f-59ca-4ce9-db5d-68c46a8e8716"
      },
      "source": [
        "# plot ROC Curve\n",
        "sns.set(style='darkgrid', palette='colorblind')\n",
        "plt.figure(figsize=(8,6))\n",
        "\n",
        "fpr, tpr, thresholds = metrics.roc_curve(y_test, y_pred2)\n",
        "\n",
        "auc = metrics.roc_auc_score(y_test, y_pred2)\n",
        "print(\"AUC - \",auc,\"\\n\")\n",
        "\n",
        "plt.plot(fpr,tpr,linewidth=2, label=\"data 1, auc=\"+str(auc))\n",
        "plt.legend(loc=4)\n",
        "\n",
        "plt.plot([0,1], [0,1], 'k--' )\n",
        "\n",
        "plt.rcParams['font.size'] = 12\n",
        "plt.title('ROC curve for Predicting a credit card fraud detection')\n",
        "plt.xlabel('False Positive Rate (1 - Specificity)')\n",
        "plt.ylabel('True Positive Rate (Sensitivity)')"
      ],
      "execution_count": 53,
      "outputs": [
        {
          "output_type": "stream",
          "text": [
            "AUC -  0.916561155464894 \n",
            "\n"
          ],
          "name": "stdout"
        },
        {
          "output_type": "execute_result",
          "data": {
            "text/plain": [
              "Text(0, 0.5, 'True Positive Rate (Sensitivity)')"
            ]
          },
          "metadata": {
            "tags": []
          },
          "execution_count": 53
        },
        {
          "output_type": "display_data",
          "data": {
            "image/png": "[encoded data removed]",
            "text/plain": [
              "<Figure size 576x432 with 1 Axes>"
            ]
          },
          "metadata": {
            "tags": []
          }
        }
      ]
    },
    {
      "cell_type": "code",
      "metadata": {
        "id": "4SRbr2qKSLbZ",
        "colab": {
          "base_uri": "https://localhost:8080/"
        },
        "outputId": "08c624a0-2ac0-4318-a531-a6e1fdae020d"
      },
      "source": [
        "# calculate F1 score\n",
        "f1 = metrics.f1_score(y_test, y_pred2)\n",
        "print('f1=%.3f' % (f1))"
      ],
      "execution_count": 54,
      "outputs": [
        {
          "output_type": "stream",
          "text": [
            "f1=0.851\n"
          ],
          "name": "stdout"
        }
      ]
    },
    {
      "cell_type": "code",
      "metadata": {
        "id": "VbQ2uEnHSLbZ",
        "colab": {
          "base_uri": "https://localhost:8080/",
          "height": 312
        },
        "outputId": "3f45b379-731d-4ac2-b5ef-12db72876915"
      },
      "source": [
        "# Heatmap for Confusion Matrix\n",
        "cnf_matrix = metrics.confusion_matrix(y_test , y_pred2)\n",
        "sns.heatmap(pd.DataFrame(cnf_matrix), annot=True, annot_kws={\"size\": 25}, cmap=\"coolwarm\" ,fmt='g')\n",
        "\n",
        "plt.title('Confusion matrix', y=1.1, fontsize = 22)\n",
        "plt.xlabel('Predicted',fontsize = 18)\n",
        "plt.ylabel('Actual',fontsize = 18)\n",
        "\n",
        "plt.show()"
      ],
      "execution_count": 55,
      "outputs": [
        {
          "output_type": "display_data",
          "data": {
            "image/png": "[encoded data removed]",
            "text/plain": [
              "<Figure size 432x288 with 2 Axes>"
            ]
          },
          "metadata": {
            "tags": []
          }
        }
      ]
    },
    {
      "cell_type": "code",
      "metadata": {
        "id": "lkntsWlLSLbZ",
        "colab": {
          "base_uri": "https://localhost:8080/"
        },
        "outputId": "4f01f8bd-c681-4103-a93b-6f5eddfbb4d3"
      },
      "source": [
        "# draw confusion matrix\n",
        "cnf_matrix = metrics.confusion_matrix(y_test , y_pred2)\n",
        "\n",
        "print('Confusion Matrix : \\n', cnf_matrix)"
      ],
      "execution_count": 56,
      "outputs": [
        {
          "output_type": "stream",
          "text": [
            "Confusion Matrix : \n",
            " [[85281    18]\n",
            " [   24   120]]\n"
          ],
          "name": "stdout"
        }
      ]
    },
    {
      "cell_type": "markdown",
      "metadata": {
        "id": "1zS0zLgsAo6L"
      },
      "source": [
        "\n",
        "\n",
        "---\n",
        "\n",
        "\n",
        "\n",
        "---\n",
        "\n"
      ]
    },
    {
      "cell_type": "markdown",
      "metadata": {
        "id": "IBdgTPgb__dm"
      },
      "source": [
        "## **Naive Bayes**"
      ]
    },
    {
      "cell_type": "code",
      "metadata": {
        "id": "syQx3LHeYP_K"
      },
      "source": [
        "from sklearn.naive_bayes import GaussianNB\n",
        "nb_classifier = GaussianNB()\n",
        "nb_classifier.fit(X_train_smote,y_train_smote)\n",
        "\n",
        "y_pred3 = nb_classifier.predict(X_test)"
      ],
      "execution_count": 60,
      "outputs": []
    },
    {
      "cell_type": "code",
      "metadata": {
        "colab": {
          "base_uri": "https://localhost:8080/"
        },
        "id": "jGkLZ1SaXn2h",
        "outputId": "77fa15c3-a63c-44d8-d500-28df4f8ddcdb"
      },
      "source": [
        "print('Accuracy :{0:0.5f}'.format(metrics.accuracy_score(y_test , y_pred3))) \n",
        "print('AUC : {0:0.5f}'.format(metrics.roc_auc_score(y_test , y_pred3)))\n",
        "print('Precision : {0:0.5f}'.format(metrics.precision_score(y_test , y_pred3)))\n",
        "print('Recall : {0:0.5f}'.format(metrics.recall_score(y_test , y_pred3)))\n",
        "print('F1 : {0:0.5f}'.format(metrics.f1_score(y_test , y_pred3)))"
      ],
      "execution_count": 61,
      "outputs": [
        {
          "output_type": "stream",
          "text": [
            "Accuracy :0.97548\n",
            "AUC : 0.91839\n",
            "Precision : 0.05639\n",
            "Recall : 0.86111\n",
            "F1 : 0.10585\n"
          ],
          "name": "stdout"
        }
      ]
    },
    {
      "cell_type": "code",
      "metadata": {
        "colab": {
          "base_uri": "https://localhost:8080/",
          "height": 462
        },
        "id": "YmqdKU5qXos5",
        "outputId": "6dc0d374-949d-4b75-8823-3ebc3dc63bb3"
      },
      "source": [
        "# plot ROC Curve\n",
        "sns.set(style='darkgrid', palette='colorblind')\n",
        "plt.figure(figsize=(8,6))\n",
        "\n",
        "fpr, tpr, thresholds = metrics.roc_curve(y_test, y_pred3)\n",
        "\n",
        "auc = metrics.roc_auc_score(y_test, y_pred3)\n",
        "print(\"AUC - \",auc,\"\\n\")\n",
        "\n",
        "plt.plot(fpr,tpr,linewidth=2, label=\"data 1, auc=\"+str(auc))\n",
        "plt.legend(loc=4)\n",
        "\n",
        "plt.plot([0,1], [0,1], 'k--' )\n",
        "\n",
        "plt.rcParams['font.size'] = 12\n",
        "plt.title('ROC curve for Predicting a credit card fraud detection')\n",
        "plt.xlabel('False Positive Rate (1 - Specificity)')\n",
        "plt.ylabel('True Positive Rate (Sensitivity)')"
      ],
      "execution_count": 62,
      "outputs": [
        {
          "output_type": "stream",
          "text": [
            "AUC -  0.9183924586845489 \n",
            "\n"
          ],
          "name": "stdout"
        },
        {
          "output_type": "execute_result",
          "data": {
            "text/plain": [
              "Text(0, 0.5, 'True Positive Rate (Sensitivity)')"
            ]
          },
          "metadata": {
            "tags": []
          },
          "execution_count": 62
        },
        {
          "output_type": "display_data",
          "data": {
            "image/png": "[encoded data removed]",
            "text/plain": [
              "<Figure size 576x432 with 1 Axes>"
            ]
          },
          "metadata": {
            "tags": []
          }
        }
      ]
    },
    {
      "cell_type": "code",
      "metadata": {
        "colab": {
          "base_uri": "https://localhost:8080/",
          "height": 312
        },
        "id": "gdNkEF-9X7wq",
        "outputId": "f196283a-8a19-4f32-cc87-e79e57d72bdd"
      },
      "source": [
        "# Heatmap for Confusion Matrix\n",
        "cnf_matrix = metrics.confusion_matrix(y_test , y_pred3)\n",
        "sns.heatmap(pd.DataFrame(cnf_matrix), annot=True, annot_kws={\"size\": 25}, cmap=\"coolwarm\" ,fmt='g')\n",
        "\n",
        "plt.title('Confusion matrix', y=1.1, fontsize = 22)\n",
        "plt.xlabel('Predicted',fontsize = 18)\n",
        "plt.ylabel('Actual',fontsize = 18)\n",
        "\n",
        "plt.show()"
      ],
      "execution_count": 63,
      "outputs": [
        {
          "output_type": "display_data",
          "data": {
            "image/png": "[encoded data removed]",
            "text/plain": [
              "<Figure size 432x288 with 2 Axes>"
            ]
          },
          "metadata": {
            "tags": []
          }
        }
      ]
    },
    {
      "cell_type": "code",
      "metadata": {
        "colab": {
          "base_uri": "https://localhost:8080/"
        },
        "id": "iwRyYiz6xZ7I",
        "outputId": "e4f252c5-f953-44a0-c3d1-6ebc33dd494a"
      },
      "source": [
        "# draw confusion matrix\n",
        "cnf_matrix = metrics.confusion_matrix(y_test , y_pred3)\n",
        "\n",
        "print('Confusion Matrix : \\n', cnf_matrix)"
      ],
      "execution_count": 64,
      "outputs": [
        {
          "output_type": "stream",
          "text": [
            "Confusion Matrix : \n",
            " [[83224  2075]\n",
            " [   20   124]]\n"
          ],
          "name": "stdout"
        }
      ]
    },
    {
      "cell_type": "markdown",
      "metadata": {
        "id": "GCBP_BauAktK"
      },
      "source": [
        "\n",
        "\n",
        "---\n",
        "\n"
      ]
    },
    {
      "cell_type": "markdown",
      "metadata": {
        "id": "4k6Ro7E1G6Qf"
      },
      "source": [
        "## **XGboost**"
      ]
    },
    {
      "cell_type": "code",
      "metadata": {
        "id": "u0guMtv1HCFp"
      },
      "source": [
        "from xgboost import XGBClassifier\n",
        "# fit model no training data\n",
        "XGB_classifier = XGBClassifier()\n",
        "XGB_classifier.fit(X_train,y_train)\n",
        "\n",
        "# make predictions for test data\n",
        "y_pred4 = XGB_classifier.predict(X_test)\n"
      ],
      "execution_count": 66,
      "outputs": []
    },
    {
      "cell_type": "code",
      "metadata": {
        "id": "duI1DvGLKzLS",
        "colab": {
          "base_uri": "https://localhost:8080/"
        },
        "outputId": "d25ea503-725e-4c0e-814e-ad64056f7af3"
      },
      "source": [
        "print('Accuracy :{0:0.5f}'.format(metrics.accuracy_score(y_test , y_pred4))) \n",
        "print('AUC : {0:0.5f}'.format(metrics.roc_auc_score(y_test , y_pred4)))\n",
        "print('Precision : {0:0.5f}'.format(metrics.precision_score(y_test , y_pred4)))\n",
        "print('Recall : {0:0.5f}'.format(metrics.recall_score(y_test , y_pred4)))\n",
        "print('F1 : {0:0.5f}'.format(metrics.f1_score(y_test , y_pred4)))"
      ],
      "execution_count": 67,
      "outputs": [
        {
          "output_type": "stream",
          "text": [
            "Accuracy :0.99957\n",
            "AUC : 0.89926\n",
            "Precision : 0.93496\n",
            "Recall : 0.79861\n",
            "F1 : 0.86142\n"
          ],
          "name": "stdout"
        }
      ]
    },
    {
      "cell_type": "code",
      "metadata": {
        "id": "cioxkjBxKzQH",
        "colab": {
          "base_uri": "https://localhost:8080/",
          "height": 462
        },
        "outputId": "1953d007-bc0a-4613-80b9-72e5648e28a2"
      },
      "source": [
        "# plot ROC Curve\n",
        "sns.set(style='darkgrid', palette='colorblind')\n",
        "plt.figure(figsize=(8,6))\n",
        "\n",
        "fpr, tpr, thresholds = metrics.roc_curve(y_test, y_pred4)\n",
        "\n",
        "auc = metrics.roc_auc_score(y_test, y_pred4)\n",
        "print(\"AUC - \",auc,\"\\n\")\n",
        "\n",
        "plt.plot(fpr,tpr,linewidth=2, label=\"data 1, auc=\"+str(auc))\n",
        "plt.legend(loc=4)\n",
        "\n",
        "plt.plot([0,1], [0,1], 'k--' )\n",
        "\n",
        "plt.rcParams['font.size'] = 12\n",
        "plt.title('ROC curve for Predicting a credit card fraud detection')\n",
        "plt.xlabel('False Positive Rate (1 - Specificity)')\n",
        "plt.ylabel('True Positive Rate (Sensitivity)')"
      ],
      "execution_count": 68,
      "outputs": [
        {
          "output_type": "stream",
          "text": [
            "AUC -  0.8992586616881011 \n",
            "\n"
          ],
          "name": "stdout"
        },
        {
          "output_type": "execute_result",
          "data": {
            "text/plain": [
              "Text(0, 0.5, 'True Positive Rate (Sensitivity)')"
            ]
          },
          "metadata": {
            "tags": []
          },
          "execution_count": 68
        },
        {
          "output_type": "display_data",
          "data": {
            "image/png": "[encoded data removed]",
            "text/plain": [
              "<Figure size 576x432 with 1 Axes>"
            ]
          },
          "metadata": {
            "tags": []
          }
        }
      ]
    },
    {
      "cell_type": "code",
      "metadata": {
        "id": "fwnvGlJdHP69",
        "colab": {
          "base_uri": "https://localhost:8080/",
          "height": 329
        },
        "outputId": "8cfda277-3644-451c-d855-f58820dd23a7"
      },
      "source": [
        "# Heatmap for Confusion Matrix\n",
        "cnf_matrix = metrics.confusion_matrix(y_test , y_pred4)\n",
        "sns.heatmap(pd.DataFrame(cnf_matrix), annot=True, annot_kws={\"size\": 25}, cmap=\"coolwarm\" ,fmt='g')\n",
        "\n",
        "plt.title('Confusion matrix', y=1.1, fontsize = 22)\n",
        "plt.xlabel('Predicted',fontsize = 18)\n",
        "plt.ylabel('Actual',fontsize = 18)\n"
      ],
      "execution_count": 69,
      "outputs": [
        {
          "output_type": "execute_result",
          "data": {
            "text/plain": [
              "Text(30.5, 0.5, 'Actual')"
            ]
          },
          "metadata": {
            "tags": []
          },
          "execution_count": 69
        },
        {
          "output_type": "display_data",
          "data": {
            "image/png": "[encoded data removed]",
            "text/plain": [
              "<Figure size 432x288 with 2 Axes>"
            ]
          },
          "metadata": {
            "tags": []
          }
        }
      ]
    },
    {
      "cell_type": "markdown",
      "metadata": {
        "id": "6zy1jXYoAvgK"
      },
      "source": [
        "\n",
        "\n",
        "---\n",
        "\n",
        "\n",
        "\n"
      ]
    },
    {
      "cell_type": "markdown",
      "metadata": {
        "id": "vJahWU9YAWvd"
      },
      "source": [
        "## **Comparison Of All The Models**"
      ]
    },
    {
      "cell_type": "code",
      "metadata": {
        "colab": {
          "base_uri": "https://localhost:8080/"
        },
        "id": "I26igqhn1v1e",
        "outputId": "a131758c-f5d7-40de-b6b4-3800827395e9"
      },
      "source": [
        "print()\n",
        "print('========================== Model Evaluation Results ========================' \"\\n\")  \n",
        "print()\n",
        "print('Accuracy for Logistic Regression Model :{0:0.5f}'.format(metrics.accuracy_score(y_test , y_pred1))) \n",
        "print('Accuracy for Random Forest Model:{0:0.5f}'.format(metrics.accuracy_score(y_test , y_pred2))) \n",
        "print('Accuracy for Naive Bayes Model:{0:0.5f}'.format(metrics.accuracy_score(y_test , y_pred3))) \n",
        "print('Accuracy XG Boost Classifier:{0:0.5f}'.format(metrics.accuracy_score(y_test , y_pred4))) "
      ],
      "execution_count": 76,
      "outputs": [
        {
          "output_type": "stream",
          "text": [
            "\n",
            "========================== Model Evaluation Results ========================\n",
            "\n",
            "\n",
            "Accuracy for Logistic Regression Model :0.97662\n",
            "Accuracy for Random Forest Model:0.99951\n",
            "Accuracy for Naive Bayes Model:0.97548\n",
            "Accuracy XG Boost Classifier:0.99957\n"
          ],
          "name": "stdout"
        }
      ]
    },
    {
      "cell_type": "markdown",
      "metadata": {
        "id": "UDGo09B_-oLU"
      },
      "source": [
        "\n",
        "\n",
        "---\n",
        "\n"
      ]
    },
    {
      "cell_type": "code",
      "metadata": {
        "colab": {
          "base_uri": "https://localhost:8080/"
        },
        "id": "PS8nU30siJLM",
        "outputId": "a5b1a366-61a6-40aa-cd90-6a3e774ca483"
      },
      "source": [
        "from sklearn.metrics import roc_curve\n",
        "fp1, tp1, thresholds1 = roc_curve(y_test, y_pred1)\n",
        "fp2, tp2, thresholds2 = roc_curve(y_test, y_pred2)\n",
        "fp3, tp3, thresholds3 = roc_curve(y_test, y_pred3)\n",
        "fp4, tp4, thresholds4 = roc_curve(y_test, y_pred4)\n",
        "print()\n",
        "print('========================== Model Evaluation Results ========================' \"\\n\")  \n",
        "print()\n",
        "print('AUC for Logistic Regression Model: {0:0.5f}'.format(metrics.roc_auc_score(y_test , y_pred1)))\n",
        "print('AUC for Random Forest Model: {0:0.5f}'.format(metrics.roc_auc_score(y_test , y_pred2)))\n",
        "print('AUC for Naive Bayes Model: {0:0.5f}'.format(metrics.roc_auc_score(y_test , y_pred3)))\n",
        "print('AUC for XG Boost Classifier: {0:0.5f}'.format(metrics.roc_auc_score(y_test , y_pred4)))\n"
      ],
      "execution_count": 77,
      "outputs": [
        {
          "output_type": "stream",
          "text": [
            "\n",
            "========================== Model Evaluation Results ========================\n",
            "\n",
            "\n",
            "AUC for Logistic Regression Model: 0.93976\n",
            "AUC for Random Forest Model: 0.91656\n",
            "AUC for Naive Bayes Model: 0.91839\n",
            "AUC for XG Boost Classifier: 0.89926\n"
          ],
          "name": "stdout"
        }
      ]
    },
    {
      "cell_type": "code",
      "metadata": {
        "id": "rOaZbd7N0yxm"
      },
      "source": [
        "sns.set(style='darkgrid', palette='colorblind')\n",
        "plt.figure(figsize=(12,10))\n",
        "\n",
        "fpr1, tpr1, thresholds = metrics.roc_curve(y_test, y_pred4)\n",
        "\n",
        "auc = metrics.roc_auc_score(y_test, y_pred4)\n",
        "print(\"AUC - \",auc,\"\\n\")\n",
        "\n",
        "plt.plot(fpr,tpr,linewidth=2, label=\"data 1, auc=\"+str(auc))\n",
        "plt.legend(loc=4)\n",
        "\n",
        "plt.plot([0,1], [0,1], 'k--' )\n",
        "\n",
        "plt.rcParams['font.size'] = 12\n",
        "plt.title('ROC curve for Predicting a credit card fraud detection')\n",
        "plt.xlabel('False Positive Rate (1 - Specificity)')\n",
        "plt.ylabel('True Positive Rate (Sensitivity)')"
      ],
      "execution_count": null,
      "outputs": []
    },
    {
      "cell_type": "code",
      "metadata": {
        "id": "SC2Iasz63fmr"
      },
      "source": [
        "auc1 = metrics.roc_auc_score(y_test , y_pred1)\n",
        "auc2 = metrics.roc_auc_score(y_test , y_pred2)\n",
        "auc3 = metrics.roc_auc_score(y_test , y_pred3)\n",
        "auc4 = metrics.roc_auc_score(y_test , y_pred4)"
      ],
      "execution_count": 81,
      "outputs": []
    },
    {
      "cell_type": "code",
      "metadata": {
        "colab": {
          "base_uri": "https://localhost:8080/",
          "height": 410
        },
        "id": "ByB9tu5QiN58",
        "outputId": "ba20e117-57e5-400d-a702-629c0ba267d6"
      },
      "source": [
        "sns.set(style='darkgrid', palette='colorblind')\n",
        "plt.figure(figsize=(8,6))\n",
        "plt.plot(fp1, tp1,linewidth=2, label=\"Logistic Regression , auc=\"+str(auc1))\n",
        "plt.plot(fp2, tp2, label=\"Random Forest , auc=\"+str(auc2))\n",
        "plt.plot(fp3, tp3, label=\"Naive Bayes, auc=\"+str(auc3))\n",
        "plt.plot(fp4, tp4, label=\"XG Boost, auc=\"+str(auc4))\n",
        "plt.plot([0, 1], [0, 1], 'k--')\n",
        "plt.xlim([0.0, 1.0])\n",
        "plt.ylim([0.0, 1.0])\n",
        "plt.xlabel('False Positive Rate')\n",
        "plt.ylabel('True Positive Rate')\n",
        "plt.title('ROC curve for Predicting a credit card fraud detection')\n",
        "plt.legend(loc=\"lower right\")\n",
        "plt.show()"
      ],
      "execution_count": 85,
      "outputs": [
        {
          "output_type": "display_data",
          "data": {
            "image/png": "[encoded data removed]",
            "text/plain": [
              "<Figure size 576x432 with 1 Axes>"
            ]
          },
          "metadata": {
            "tags": []
          }
        }
      ]
    },
    {
      "cell_type": "code",
      "metadata": {
        "id": "iOir4W3M8H6x"
      },
      "source": [
        "accu1 = metrics.accuracy_score(y_test , y_pred1)*100\n",
        "accu2 = metrics.accuracy_score(y_test , y_pred2)*100\n",
        "accu3 = metrics.accuracy_score(y_test , y_pred3)*100\n",
        "accu4 = metrics.accuracy_score(y_test , y_pred4)*100\n",
        "\n",
        "prec1 = metrics.precision_score(y_test , y_pred1)\n",
        "prec2 = metrics.precision_score(y_test , y_pred2)\n",
        "prec3 = metrics.precision_score(y_test , y_pred3)\n",
        "prec4 = metrics.precision_score(y_test , y_pred4)\n",
        "\n",
        "f1_1  = metrics.f1_score(y_test, y_pred1)\n",
        "f1_2  = metrics.f1_score(y_test, y_pred2)\n",
        "f1_3  = metrics.f1_score(y_test, y_pred3)\n",
        "f1_4  = metrics.f1_score(y_test, y_pred4)"
      ],
      "execution_count": 95,
      "outputs": []
    },
    {
      "cell_type": "code",
      "metadata": {
        "id": "X_a-JFfJ66H_"
      },
      "source": [
        "table = [['MODELS', 'ACCURACY', 'AUC','PRECISION','F1'],\n",
        "         \n",
        "         ['Logistic Regression',accu1,auc1,prec1,f1_1],\n",
        "         ['Random Forest',accu2,auc2,prec2,f1_2],\n",
        "         ['Naive Bayes',accu3,auc3,prec3,f1_3],\n",
        "         ['XGBoost',accu4,auc4,prec4,f1_4]]"
      ],
      "execution_count": 96,
      "outputs": []
    },
    {
      "cell_type": "code",
      "metadata": {
        "colab": {
          "base_uri": "https://localhost:8080/"
        },
        "id": "AZuUNGrN8W_T",
        "outputId": "e22e2a04-7ebe-4878-940f-8f7a4de2df1e"
      },
      "source": [
        "print(tabulate(table, headers='firstrow', tablefmt='grid'))"
      ],
      "execution_count": 97,
      "outputs": [
        {
          "output_type": "stream",
          "text": [
            "+---------------------+------------+----------+-------------+----------+\n",
            "| MODELS              |   ACCURACY |      AUC |   PRECISION |       F1 |\n",
            "+=====================+============+==========+=============+==========+\n",
            "| Logistic Regression |    97.6616 | 0.939759 |   0.0614948 | 0.115146 |\n",
            "+---------------------+------------+----------+-------------+----------+\n",
            "| Random Forest       |    99.9508 | 0.916561 |   0.869565  | 0.851064 |\n",
            "+---------------------+------------+----------+-------------+----------+\n",
            "| Naive Bayes         |    97.5481 | 0.918392 |   0.0563893 | 0.105847 |\n",
            "+---------------------+------------+----------+-------------+----------+\n",
            "| XGBoost             |    99.9567 | 0.899259 |   0.934959  | 0.861423 |\n",
            "+---------------------+------------+----------+-------------+----------+\n"
          ],
          "name": "stdout"
        }
      ]
    },
    {
      "cell_type": "code",
      "metadata": {
        "id": "wng7R_x1PhOU"
      },
      "source": [
        ""
      ],
      "execution_count": null,
      "outputs": []
    },
    {
      "cell_type": "markdown",
      "metadata": {
        "id": "u9g1Wt-1-fF5"
      },
      "source": [
        "## Thank You !!"
      ]
    }
  ]
}